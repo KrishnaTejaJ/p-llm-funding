{
  "nbformat": 4,
  "nbformat_minor": 0,
  "metadata": {
    "colab": {
      "provenance": []
    },
    "kernelspec": {
      "name": "python3",
      "display_name": "Python 3"
    },
    "language_info": {
      "name": "python"
    }
  },
  "cells": [
    {
      "cell_type": "code",
      "execution_count": null,
      "metadata": {
        "colab": {
          "base_uri": "https://localhost:8080/"
        },
        "id": "tCAuebRzKPBR",
        "outputId": "6d3c4df1-6e6e-4eca-c117-482c52cddc76"
      },
      "outputs": [
        {
          "output_type": "stream",
          "name": "stdout",
          "text": [
            "(10000, 1)\n",
            "Organizations matching the criteria:\n",
            "                                           Organisation\n",
            "15                                             NSF-GFRP\n",
            "21                                              NSF QIS\n",
            "24        National Science Foundation under IGERT award\n",
            "54                                             NSF/NNIN\n",
            "55    National Science Foundation Dimensions of Biod...\n",
            "...                                                 ...\n",
            "9897                                   NSF through CBET\n",
            "9909  Nano/Bio Interface Center at the University of...\n",
            "9943  National Science Foundation (NSF) Division of ...\n",
            "9967            National Science Foundation (NSF) [DEB]\n",
            "9975                                         US NSF-EAR\n",
            "\n",
            "[1163 rows x 1 columns]\n"
          ]
        }
      ],
      "source": [
        "#filtering organisation names with the strings 'nsf' or 'national science foundation' from sample.csv\n",
        "\n",
        "import pandas as pd\n",
        "\n",
        "def filter_non_matching_organisations(csv_file):\n",
        "    df = pd.read_csv(csv_file)\n",
        "\n",
        "    non_matching_organisations = df[df['Organisation'].str.contains('nsf|national science foundation', case=False, na=False)]\n",
        "\n",
        "    return non_matching_organisations\n",
        "\n",
        "# Example usage:\n",
        "csv_file_path = '/content/drive/MyDrive/Independent Study/sample.csv'  # Replace with the actual file path\n",
        "print(pd.read_csv(csv_file_path).shape)\n",
        "result_nsf_df = filter_non_matching_organisations(csv_file_path)\n",
        "\n",
        "print(\"Organizations matching the criteria:\")\n",
        "print(result_nsf_df)"
      ]
    },
    {
      "cell_type": "code",
      "source": [
        "# Find and count duplicates in a column\n",
        "duplicates_count = result_nsf_df['Organisation'].duplicated(keep=False)\n",
        "duplicates_df = result_nsf_df[duplicates_count]\n",
        "\n",
        "# Count occurrences of each duplicated value\n",
        "value_counts = duplicates_df['Organisation'].value_counts()\n",
        "\n",
        "# Display the duplicates and their counts\n",
        "print(\"Duplicates and their Counts:\")\n",
        "print(value_counts)"
      ],
      "metadata": {
        "colab": {
          "base_uri": "https://localhost:8080/"
        },
        "id": "kA4h5s41OnKJ",
        "outputId": "c47ade65-4c23-4625-a836-33c774ccfa8b"
      },
      "execution_count": null,
      "outputs": [
        {
          "output_type": "stream",
          "name": "stdout",
          "text": [
            "Duplicates and their Counts:\n",
            "National Science Foundation's BRIDGE                                                              2\n",
            "U.S. National Science Foundation within the Directorate for Biological Sciences                   2\n",
            "US NSF-CNH Program                                                                                2\n",
            "National Science Foundation Industry/University Cooperative Research Centers program              2\n",
            "NSF CNS Grant                                                                                     2\n",
            "NSF Partnerships for Innovation: Building Innovation Capacity (PFI:BIC) Program                   2\n",
            "National Science Foundation Historically Black Colleges and Universities Undergraduate Program    2\n",
            "National Science Foundation (NSF)/INSPIRE grant                                                   2\n",
            "United States National Science Foundation Office of Polar Programs                                2\n",
            "NSF Office of Polar Programs                                                                      2\n",
            "Name: Organisation, dtype: int64\n"
          ]
        }
      ]
    },
    {
      "cell_type": "code",
      "source": [
        "#removing duplicates\n",
        "unique_nsf_df = result_nsf_df.drop_duplicates(subset='Organisation', keep='first')\n",
        "\n",
        "unique_nsf_df = unique_nsf_df.rename(columns={'Organisation': 'UniqueOrganisation'})\n",
        "print(unique_nsf_df)"
      ],
      "metadata": {
        "colab": {
          "base_uri": "https://localhost:8080/"
        },
        "id": "fBYA9kKNPJzj",
        "outputId": "21ce4b83-f452-42fc-8dac-da717c20c174"
      },
      "execution_count": null,
      "outputs": [
        {
          "output_type": "stream",
          "name": "stdout",
          "text": [
            "                                     UniqueOrganisation\n",
            "15                                             NSF-GFRP\n",
            "21                                              NSF QIS\n",
            "24        National Science Foundation under IGERT award\n",
            "54                                             NSF/NNIN\n",
            "55    National Science Foundation Dimensions of Biod...\n",
            "...                                                 ...\n",
            "9897                                   NSF through CBET\n",
            "9909  Nano/Bio Interface Center at the University of...\n",
            "9943  National Science Foundation (NSF) Division of ...\n",
            "9967            National Science Foundation (NSF) [DEB]\n",
            "9975                                         US NSF-EAR\n",
            "\n",
            "[1153 rows x 1 columns]\n"
          ]
        }
      ]
    },
    {
      "cell_type": "code",
      "source": [
        "nsf_df = pd.read_csv('/content/drive/MyDrive/Independent Study/nsf_sample.csv')\n",
        "\n",
        "# Check if all values from nsf_df (1000) are in unique_nsf_df (1153)\n",
        "all_values_in_column2 = nsf_df['Organisation'].isin(unique_nsf_df['UniqueOrganisation']).all()\n",
        "\n",
        "if all_values_in_column2:\n",
        "    print(\"All values from nsf_df (1000) are in unique_nsf_df (1153)\")\n",
        "\n",
        "#All values from nsf_df (1000) are in unique_nsf_df (1153) - the string filter works."
      ],
      "metadata": {
        "colab": {
          "base_uri": "https://localhost:8080/"
        },
        "id": "LsKbs8AXMA3D",
        "outputId": "7a6e4523-5167-4c16-e76a-8f47d3ea765f"
      },
      "execution_count": null,
      "outputs": [
        {
          "output_type": "stream",
          "name": "stdout",
          "text": [
            "All values from nsf_df (1000) are in unique_nsf_df (1153)\n"
          ]
        }
      ]
    },
    {
      "cell_type": "code",
      "source": [
        "#print values that are in unique_nsf_df but not in nsf_df\n",
        "\n",
        "unique_values_in_df1 = unique_nsf_df.loc[~unique_nsf_df['UniqueOrganisation'].isin(nsf_df['Organisation']), 'UniqueOrganisation'].unique()\n",
        "\n",
        "# Print or use the unique values\n",
        "print(\"Values in unique_nsf_df but not in nsf_df:\", unique_values_in_df1)"
      ],
      "metadata": {
        "colab": {
          "base_uri": "https://localhost:8080/"
        },
        "id": "oI6RlXCJlmAI",
        "outputId": "5c9d1b5f-895a-450e-dd56-3fcdcb8c46ed"
      },
      "execution_count": null,
      "outputs": [
        {
          "output_type": "stream",
          "name": "stdout",
          "text": [
            "Values in unique_nsf_df but not in nsf_df: ['National Science Foundation Dimensions of Biodiversity grant' 'USA: NSF'\n",
            " 'University National Science Foundation of Jiangsu Province of China'\n",
            " 'NSF Instrumentation Facilities'\n",
            " 'Department of Veterans Affairs, Office of Patient-Centered Care and Cultural Transformation'\n",
            " 'NSFC for Excellent Youth Scholars of China'\n",
            " \"Chinese National Science Foundation's\"\n",
            " 'Advanced Catalytic Transformation program for Carbon utilization (ACT-C) project of the Japan Science and Technology Agency (JST)'\n",
            " 'National Science Foundation postdoctoral fellowship'\n",
            " 'UMass Center for Hierarchical Manufacturing (CHM), a NSF Nanoscale Science and Engineering Center'\n",
            " 'NSF Assembling the Tree of Life (AToL)'\n",
            " 'NSF Science and Technology Center-Materials and Devices for Information Technology'\n",
            " 'Adaptable and Seamless Technology Transfer Program'\n",
            " 'Belgian National Science Foundation'\n",
            " 'U.S. National Science Foundation Climate Dynamics Program'\n",
            " 'International Cooperation and Exchange of the National Science Foundation of China'\n",
            " 'National Science Foundation (IGERT)'\n",
            " 'Fonds de la recherche en sante du Quebec for Transfusional and Hemovigilance Medical Research'\n",
            " 'National Natural Science Foundation of China (NSFC) - Xinjiang project'\n",
            " 'Swiss National Science Foundation through Division II'\n",
            " 'National Science Foundation - United States (NSF)'\n",
            " 'US National Science Foundations (NSF) through the TRUST Science and Technology Center'\n",
            " 'China grant NSFC' 'National Science Foundation of the U.S.A'\n",
            " 'National Science Foundation Ocean-Sciences (NSF-OCE)'\n",
            " 'Center for Emergent Materials at the Ohio State University, a NSF MRSEC'\n",
            " 'National Natural and Science Foundation of China (NSFC)'\n",
            " 'NSF CIAN ERC Center for Integrated Access Network'\n",
            " 'Stanford Environmental Molecular Science Institute through NSF'\n",
            " 'NSF Aeronomy Program'\n",
            " 'National Institutes of Health, National Science Foundation'\n",
            " 'National Science Foundation, Division of Emerging Frontiers in Research and Innovations (EFRI)'\n",
            " 'NSFC/Hong Kong RGC Research Scheme'\n",
            " 'US National Science Foundation through Moorea Coral Reef LTER'\n",
            " 'Gene Transformation Projects' 'NSF of Jiangxi, China' 'NSF-EPSCoR'\n",
            " 'National Science Foundation of China (NSFQ)'\n",
            " 'Hungarian National Science Foundation' 'Guangxi NSF Key Project'\n",
            " 'NSFC Tianyuan Projects' 'National Science Foundation (NSF'\n",
            " 'National Science Foundation under the CCI Center for Enabling New Technologies through Catalysis (CENTC) Phase II Renewal'\n",
            " 'NSF IGERT Program in Geobiological Systems'\n",
            " 'NSFC (National Science Fund of China)'\n",
            " 'National Education Base of Bioscience Research from the National Science Foundation of China'\n",
            " 'NSFC International (Regional) Cooperation and Exchange Program'\n",
            " 'NSF of the National Natural Science Foundation of China'\n",
            " 'Center for Probing the Nanoscale at Stanford University (NSF)'\n",
            " 'Transformation Project of Sci-tech Achievements of SYSU'\n",
            " 'NSF, United States of America'\n",
            " 'National Science Foundation Bridge to the Doctorate Fellowship'\n",
            " 'Special Program for Independent Innovation and Achievements Transformation of Shandong Province, China'\n",
            " 'MIT MRSEC through MRSEC Program of the National Science Foundation'\n",
            " 'Innovative Research Groups of the National Science Foundation of China'\n",
            " 'U.S. National Science Foundation (grant CMMI)'\n",
            " 'NSF Physics Frontier Centers'\n",
            " 'National Science Foundation for Young Scientists of Jiangsu Province, China'\n",
            " 'Center for Brains, Minds and Machines (CBMM) - NSF STC'\n",
            " 'Tianjin Agricultural Science and Technology Achievement Transformation and Promotion project'\n",
            " 'U.S. National Science Foundation (NSF) Cyber-enabled Discovery and Innovation (CDI) program'\n",
            " 'N NSFC'\n",
            " 'National Science Foundation-Graduate Research Fellowship Program'\n",
            " 'National Science Foundation Center for Environmental Implications of Nanotechnology (CEINT)'\n",
            " 'Programe of Independent and Achievement Transformation plan for Zaozhuang'\n",
            " 'General Program of NNSF of China'\n",
            " 'Rustaveli National Science Foundation of Georgia'\n",
            " 'Nation Nature Science Foundation of China (NSFC)'\n",
            " 'Japan Science and Technology Adaptable and Seamless Technology Transfer Program through target-driven RD'\n",
            " 'Foundation for Innovative Research Groups of National Science Foundation of China (NSFC): Marine Organic Biogeochemistry'\n",
            " 'Swiss National Science Foundation - Umbrella project' 'NSF of Shenzhen'\n",
            " 'NSF of Anhui Education Bureau'\n",
            " 'Japan Society for the Promotion of Science-National Research Foundation of Korea-National Science Foundation of China (JSPS-NRF-NSFC) A3 Foresight Program in the field of Plasma Physics (NSFC)'\n",
            " 'National Science Foundation for Distinguished Young Scholars of Fujian Province'\n",
            " 'National Science Foundation for Post-doctoral Scientists of Jiangsu Province in China'\n",
            " 'Inner Mongolia National Science Foundation'\n",
            " 'National Natural Science Foundation of China (NSFC) foundation'\n",
            " \"National Science Foundation's Division of Polar Programs\"\n",
            " 'Nano/Bio Interface Center at the University of Pennsylvania through the NSF NSEC'\n",
            " 'NSF Faculty Early Career Development (CAREER) Program'\n",
            " 'NNSF Projects of China'\n",
            " 'Australian Research Council through the Industrial Transformation Training Centre for LNG Futures'\n",
            " 'National Science Foundation under NSF Collaborative Research Award'\n",
            " 'NSF Graduate Research Fellowships'\n",
            " 'American Association for Cancer Research (NextGen Grant for Transformative Cancer Research)'\n",
            " 'National Science Foundation (CBET Energy for Sustainability)' 'NSF IOS'\n",
            " 'U.S. National Science Foundation (NSF) through International Materials Institute for New Functionality in Glass (IMI-NFG)'\n",
            " 'NSF through the University of Wisconsin Nanoscale Science and Engineering Center'\n",
            " 'NSF Petascale Simulations and Analysis (PetaApps) program'\n",
            " 'Chinese government through National Science Foundation of China (NSFC)'\n",
            " 'CEM, an NSF MRSEC' 'National Science Foundation (MSN)'\n",
            " 'National Science Foundation of Anhui'\n",
            " 'Youth Science Fund Project of NNSF of China'\n",
            " \"NSF's Geospace Environment Modeling grant\"\n",
            " 'National Science Foundation, Science and Technology Center'\n",
            " 'Joint NSFC-ISF Research Program' 'NSF from the NRAO'\n",
            " 'National Science Foundation Plant Genome Research'\n",
            " 'National Science Foundation of China NSFC' 'Swiss-NSF'\n",
            " 'National Science Foundation National Nanotechnology Coordinated Infrastructure Texas Nanofabrication Facility'\n",
            " 'NSF SCREMS'\n",
            " 'Fund for the Transformation of Major Scientific and Technological Achievements of Jiangsu Province'\n",
            " 'NSF Water and Environmental Technology Center at Arizona State University'\n",
            " 'Joint Institute for Nuclear Astrophysics (JINA; NSF)'\n",
            " 'National Science Foundation of China (NSFC) Key Program'\n",
            " 'Visy through the Industry Transformation Research Hub grant'\n",
            " 'NSF CRIF MU' 'Industrial Transformation Research Hub' 'NSF-MRI-R2 grant'\n",
            " 'Hong Kong RGC-NSFC' 'National Science Foundation of Hangkong'\n",
            " 'Center for Engineering MechanoBiology (CEMB), an NSF Science and Technology Center'\n",
            " 'U.S. National Science Foundation, through International Materials Institute for New Functionality in Glass (IMI-NFG)'\n",
            " 'NSF through the UMN MRSEC' 'Guangxi NSFC'\n",
            " 'LHC-TI under U.S. National Science Foundation'\n",
            " 'National Natural Science Foundation ofChina (NSFC)'\n",
            " 'Swiss National Science Foundation (NCCR MUST)'\n",
            " 'National Program for Support of Top-notch Young Professionals, National Natural Science Foundation of China NSFC'\n",
            " 'U S. National Science Foundation' 'NSF-GOALI program' 'NSFY/China'\n",
            " 'NCAR/EOL under National Science Foundation' 'NSF through ERC program'\n",
            " 'Large Scientific Apparatus United Fund from NSFC'\n",
            " 'NIH/National Institute of General Medical Sciences under NSF'\n",
            " 'Swiss National Science Foundation SNF grants'\n",
            " 'National Sciences Foundation (NSF) Earth System Modeling Program at NCSU'\n",
            " 'NSFC-NRCT joint project'\n",
            " 'National Natural Science Foundation of China (NSFC), Shanxi'\n",
            " 'NSF-Plant Genome Program'\n",
            " 'National Natural Science Foundation of China NSFC-CGIAR Project'\n",
            " 'Dynamik und Intermediate molekularer Transformationen (DFG)'\n",
            " 'NSF of Jiangsu Provence - China'\n",
            " 'National Agricultural Achievements Transformation Fund'\n",
            " 'Project of the National Natural Science Foundation of China (NSFC)'\n",
            " 'NSF EPSCoR CIMM project'\n",
            " 'National Science Foundation (NSF) Research Experiences for Undergraduates (REU) program'\n",
            " 'National Science Foundation for Natural Science, China'\n",
            " 'NSF Creative Team Project of Hubei Province'\n",
            " 'Centre for Innovation and Transfer of Natural Sciences and Engineering Knowledge at the University of Rzeszow'\n",
            " 'National Science Foundation East Asia and Pacific Summer Institute Fellowship'\n",
            " 'NSF of Fujian Province, China'\n",
            " 'MRSEC program of the NSF at the MRC of Northwestern'\n",
            " 'Foundation for Innovative Research Groups of NNSFC'\n",
            " \"US National Science Foundation's Division of Environmental Biology\"\n",
            " 'National Science Foundation EPSCoR program at the University of Montana'\n",
            " 'NSF PHY Grant'\n",
            " 'NSF Cooperative Agreement for the Operation of a National Ocean Sciences Accelerator Mass Spectrometry Facility']\n"
          ]
        }
      ]
    },
    {
      "cell_type": "code",
      "source": [
        "# Concatenate the two columns lengthwise into one column\n",
        "merged_column = pd.concat([nsf_df['Organisation'], unique_nsf_df['UniqueOrganisation']])\n",
        "\n",
        "# Create a DataFrame with unique values\n",
        "unique_values_df = pd.DataFrame({'UniqueValues': merged_column.unique()})\n",
        "\n",
        "# Save the unique values to a CSV file\n",
        "unique_values_df.to_csv('/content/drive/MyDrive/Independent Study/unique_values.csv', index=False)"
      ],
      "metadata": {
        "id": "hgiG4EoLWjm0"
      },
      "execution_count": null,
      "outputs": []
    },
    {
      "cell_type": "code",
      "source": [
        "# Define the data to filter from - gemini code\n",
        "data = [\n",
        "    \"NUS Startup Grant\",\n",
        "    \"European Space Agency\",\n",
        "    \"Outstanding Talent Cultivation Project of Liaoning Province\",\n",
        "    \"Tsinghua Independent Research Grant\",\n",
        "    \"Serpentes Foundation\",\n",
        "    \"University of New South Wales ECR\",\n",
        "    \"Basic Science Research Program through the National Research Foundation of Korea - Ministry of Education, Science, and Technology of Korea\",\n",
        "    \"USA: NSF\",\n",
        "    \"Chongqing Key Laboratory of Birth Defects and Reproductive Health\",\n",
        "    \"US National Science Foundation (EFRI-SEED Award)\",\n",
        "    \"NSF/CSEDI\",\n",
        "    \"NSF-ARI Program\",\n",
        "    \"University National Science Foundation of Jiangsu Province of China\",\n",
        "    \"Commission of the European\",\n",
        "    \"Centro Fermi-Museo Storico della Fisica e Centro Studi e Ricerche \\\"Enrico Fermi\\\", Italy\",\n",
        "    \"Bristol-Myers/Squibb\",\n",
        "    \"Aspen Center for Physics (NSF)\",\n",
        "    \"Japan Marine Science and Technology Center\",\n",
        "    \"Research Program on Climate Change Adaptation (RECCA)\",\n",
        "    \"Bavarian State Ministry of Sciences, Research\",\n",
        "    \"Brink/McLean Grassland Conservation Fund\",\n",
        "    \"National Science and Technology Major Project of Twelfth Five Years\",\n",
        "    \"Clinical Research Unit\",\n",
        "    \"EquipEx PETAL+\",\n",
        "    \"National Science Foundation's BRIDGE\",\n",
        "    \"NSF-EF\",\n",
        "    \"Center of Excellence on Food Agricultural Machinery (Kasetsart University)\",\n",
        "    \"Secretaria de Ciencia y Tecnica de la Universidad Nacional de Rio Cuarto y de la Universidad Nacional de Cordoba y Ministerio de Ciencia y Tecnica de la Provincia de Cordoba\",\n",
        "    \"Pfizer Inc. (New York, NY)\",\n",
        "    \"Max Planck Graduate Center (MPGC) Mainz\",\n",
        "    \"Strategic Priority Research Program of the Shandong Academy of Sciences\",\n",
        "    \"NIH Bench-to-Bedside award\",\n",
        "    \"China National Science Fundation\",\n",
        "    \"Exploration-Oriented Key Scientific and Technological Innovation Project from Ministry of Education of China\",\n",
        "    \"Stroke fund\",\n",
        "    \"Direccion de Investigacion, Universidad de Los Lagos\",\n",
        "    \"National Institutes of Neurological Diseases\",\n",
        "    \"City of Gdynia\",\n",
        "    \"Harvard Skin Diseases Pilot Study Grant\",\n",
        "    \"Fondo Integrativo Speciale per la Ricerca\",\n",
        "    \"Xinjiang Uygur Autonomous Region regional coordinated innovation project (Shanghai cooperation organization science and technology partnership program)\",\n",
        "    \"National Science Foundation -Earth Sciences\",\n",
        "    \"EPSRC/InnovateUK\",\n",
        "    \"Natural Science Foundation of the Education Bureau of Anhui Province\",\n",
        "    \"BMRC-SERC Joint Grant\",\n",
        "    \"Queensland Parks and Wildlife Service\",\n",
        "    \"HIPC\",\n",
        "    \"National Institute on Alcohol Abuse and Alcoholism of the United States\",\n",
        "    \"Becas-CONICYT Programme\",\n",
        "    \"US National Science Foundation through the International Arctic Research Center\",\n",
        "    \"NSF/DMR\"\n",
        "]\n",
        "\n",
        "# Define the search terms (case-insensitive)\n",
        "search_terms = [\"nsf\", \"national science foundation\"]\n",
        "\n",
        "# Initialize an empty list to store the matched organizations\n",
        "matched_organizations = []\n",
        "\n",
        "# Iterate over each organization name in the data\n",
        "for organization in data:\n",
        "    # Check if any of the search terms are found in the organization name (case-insensitive)\n",
        "    for term in search_terms:\n",
        "        if term.lower() in organization.lower():\n",
        "            # If a match is found, add the organization name and reason to the list\n",
        "            matched_organizations.append(\n",
        "                f\"{organization} (Reason: contains the string '{term}')\"\n",
        "            )\n",
        "            break  # Stop iterating through search terms if a match is found\n",
        "\n",
        "# Print the list of matched organizations\n",
        "if matched_organizations:\n",
        "    print(\"Matched organizations affiliated with the National Science Foundation:\")\n",
        "    for organization in matched_organizations:\n",
        "        print(organization)\n",
        "else:\n",
        "    print(\"No organizations affiliated with the National Science Foundation were found.\")"
      ],
      "metadata": {
        "colab": {
          "base_uri": "https://localhost:8080/"
        },
        "id": "aJw_MjdxjLWm",
        "outputId": "92a50bd8-e926-41cf-8bf2-2c1a82acbef9"
      },
      "execution_count": null,
      "outputs": [
        {
          "output_type": "stream",
          "name": "stdout",
          "text": [
            "Matched organizations affiliated with the National Science Foundation:\n",
            "USA: NSF (Reason: contains the string 'nsf')\n",
            "US National Science Foundation (EFRI-SEED Award) (Reason: contains the string 'national science foundation')\n",
            "NSF/CSEDI (Reason: contains the string 'nsf')\n",
            "NSF-ARI Program (Reason: contains the string 'nsf')\n",
            "University National Science Foundation of Jiangsu Province of China (Reason: contains the string 'national science foundation')\n",
            "Aspen Center for Physics (NSF) (Reason: contains the string 'nsf')\n",
            "National Science Foundation's BRIDGE (Reason: contains the string 'national science foundation')\n",
            "NSF-EF (Reason: contains the string 'nsf')\n",
            "National Science Foundation -Earth Sciences (Reason: contains the string 'national science foundation')\n",
            "US National Science Foundation through the International Arctic Research Center (Reason: contains the string 'national science foundation')\n",
            "NSF/DMR (Reason: contains the string 'nsf')\n"
          ]
        }
      ]
    },
    {
      "cell_type": "code",
      "source": [
        "USA: NSF\tExplicitly mentions NSF in its name.\n",
        "US National Science Foundation (EFRI-SEED Award)\tFunded by or affiliated with NSF based on known funding programs or collaborations.\n",
        "NSF/CSEDI\tExplicitly mentions NSF in its name.\n",
        "NSF-ARI Program\tExplicitly mentions NSF in its name.\n",
        "University National Science Foundation of Jiangsu Province of China\tFunded by or affiliated with NSF based on known funding programs or collaborations.\n",
        "National Science Foundation's BRIDGE\tFunded by or affiliated with NSF based on known funding programs or collaborations.\n",
        "NSF-EF\tExplicitly mentions NSF in its name.\n",
        "National Science Foundation -Earth Sciences\tFunded by or affiliated with NSF based on known funding programs or collaborations.\n",
        "EPSRC/InnovateUK\tJoint program funded by EPSRC (UK) and Innovate UK, which collaborate with NSF on various research initiatives.\n",
        "US National Science Foundation through the International Arctic Research Center\tFunded by or affiliated with NSF based on known funding programs or collaborations.\n",
        "NSF/DMR\tExplicitly mentions NSF in its name."
      ],
      "metadata": {
        "id": "bmrxUh2YkKq-"
      },
      "execution_count": null,
      "outputs": []
    }
  ]
}