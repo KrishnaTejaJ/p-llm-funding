{
 "cells": [
  {
   "cell_type": "code",
   "execution_count": 9,
   "metadata": {},
   "outputs": [
    {
     "name": "stdout",
     "output_type": "stream",
     "text": [
      "                                        Organisation\n",
      "0  Science Foundation of Tianjin University of Sc...\n",
      "1  University of Oklahoma College of Medicine Alu...\n",
      "2          FAPEMIG (Rede Mineira de Imunobiologicos)\n",
      "3  Science and Technology Foundation of Portugues...\n",
      "4                                    Covidien/EV3(R)\n"
     ]
    },
    {
     "name": "stderr",
     "output_type": "stream",
     "text": [
      "c:\\Desktop\\Spring 2024\\independent-study\\github\\myenv\\lib\\site-packages\\numpy\\core\\fromnumeric.py:59: FutureWarning: 'DataFrame.swapaxes' is deprecated and will be removed in a future version. Please use 'DataFrame.transpose' instead.\n",
      "  return bound(*args, **kwds)\n"
     ]
    }
   ],
   "source": [
    "import pandas as pd\n",
    "import numpy as np\n",
    "import configparser\n",
    "import random\n",
    "\n",
    "# Create a config parser\n",
    "config = configparser.ConfigParser()\n",
    "\n",
    "# Read the configuration file\n",
    "config.read('config.ini')\n",
    "\n",
    "# Load your dataset\n",
    "df = pd.read_csv(config['URLS']['MainData'])\n",
    "\n",
    "print(df.head())\n",
    "\n",
    "# Assuming df is already loaded and contains a column 'Organisation'\n",
    "# Shuffle the DataFrame\n",
    "df = df.sample(frac=1).reset_index(drop=True)\n",
    "\n",
    "# Split the dataframe into 10 sets of 1000 names each\n",
    "dfs = np.array_split(df, 10)\n",
    "\n",
    "# Select 6 random sets from these 10 and then take a sample of 25 from each\n",
    "selected_dfs = random.sample(dfs, 6)\n",
    "sampled_orgs = [s.sample(25) for s in selected_dfs]\n",
    "\n",
    "# Save each sample to a CSV file\n",
    "for i, sample_df in enumerate(sampled_orgs, start=1):\n",
    "    sample_df.to_csv(str(config['URLS']['SampleOne'] + f'organisation_sample_{i}.csv'), index=False, columns=['Organisation'])\n",
    "\n"
   ]
  }
 ],
 "metadata": {
  "kernelspec": {
   "display_name": "myenv",
   "language": "python",
   "name": "python3"
  },
  "language_info": {
   "codemirror_mode": {
    "name": "ipython",
    "version": 3
   },
   "file_extension": ".py",
   "mimetype": "text/x-python",
   "name": "python",
   "nbconvert_exporter": "python",
   "pygments_lexer": "ipython3",
   "version": "3.10.11"
  }
 },
 "nbformat": 4,
 "nbformat_minor": 2
}
